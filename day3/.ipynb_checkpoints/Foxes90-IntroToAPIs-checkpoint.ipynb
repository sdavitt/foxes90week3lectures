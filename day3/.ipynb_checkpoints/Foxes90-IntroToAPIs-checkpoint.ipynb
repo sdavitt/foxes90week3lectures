{
 "cells": [
  {
   "cell_type": "code",
   "execution_count": 1,
   "id": "eb68333b",
   "metadata": {},
   "outputs": [],
   "source": [
    "# Making an API request with the Requests library\n",
    "import requests as r"
   ]
  },
  {
   "cell_type": "code",
   "execution_count": 8,
   "id": "ff9ad8c3",
   "metadata": {},
   "outputs": [
    {
     "name": "stdout",
     "output_type": "stream",
     "text": [
      "<Response [200]> <class 'requests.models.Response'>\n",
      "200\n",
      "{'MRData': {'xmlns': 'http://ergast.com/mrd/1.5', 'series': 'f1', 'url': 'http://ergast.com/api/f1/drivers/alonso.json', 'limit': '30', 'offset': '0', 'total': '1', 'DriverTable': {'driverId': 'alonso', 'Drivers': [{'driverId': 'alonso', 'permanentNumber': '14', 'code': 'ALO', 'url': 'http://en.wikipedia.org/wiki/Fernando_Alonso', 'givenName': 'Fernando', 'familyName': 'Alonso', 'dateOfBirth': '1981-07-29', 'nationality': 'Spanish'}]}}} <class 'dict'>\n"
     ]
    }
   ],
   "source": [
    "# call the r.get() method on an API endpoint\n",
    "# if the API endpoint doesn't have any authentication/authorization system\n",
    "    # more on this later\n",
    "# thats all we need to do!\n",
    "response = r.get('https://ergast.com/api/f1/drivers/alonso.json')\n",
    "print(response, type(response))\n",
    "\n",
    "#useful methods and attributes\n",
    "# response.status_code attribute - returns the HTTP status code of the request\n",
    "    # see https://developer.mozilla.org/en-US/docs/Web/HTTP/Status for status codes\n",
    "print(response.status_code) # 200 means OK\n",
    "# the .json() method of the response object gives you access to a python dictionary of the JSON data coming from the request\n",
    "data = response.json()\n",
    "print(data, type(data))"
   ]
  },
  {
   "cell_type": "code",
   "execution_count": 19,
   "id": "e0527b93",
   "metadata": {},
   "outputs": [
    {
     "name": "stdout",
     "output_type": "stream",
     "text": [
      "14 | Fernando Alonso | Spanish\n"
     ]
    }
   ],
   "source": [
    "driver = data['MRData']['DriverTable']['Drivers'][0]\n",
    "print(f\"{driver['permanentNumber']} | {driver['givenName']} {driver['familyName']} | {driver['nationality']}\")"
   ]
  },
  {
   "cell_type": "code",
   "execution_count": 20,
   "id": "c20a0934",
   "metadata": {},
   "outputs": [
    {
     "name": "stdout",
     "output_type": "stream",
     "text": [
      "14 | Fernando Alonso | Spanish\n",
      "16 | Charles Leclerc | Monegasque\n",
      "4 | Lando Norris | British\n",
      "6 | Nico Rosberg | German\n",
      "22 | Yuki Tsunoda | Japanese\n"
     ]
    }
   ],
   "source": [
    "# list of driver names\n",
    "names = ['alonso', 'leclerc', 'norris', 'rosberg', 'tsunoda']\n",
    "for name in names:\n",
    "    response = r.get(f'https://ergast.com/api/f1/drivers/{name}.json')\n",
    "    if response.status_code == 200:\n",
    "        data = response.json()\n",
    "        driver = data['MRData']['DriverTable']['Drivers'][0]\n",
    "        print(f\"{driver['permanentNumber']} | {driver['givenName']} {driver['familyName']} | {driver['nationality']}\")\n",
    "    else:\n",
    "        print(f\"{name.title()} does not have an endpoint.\")"
   ]
  },
  {
   "cell_type": "code",
   "execution_count": null,
   "id": "4b7a2c59",
   "metadata": {},
   "outputs": [],
   "source": []
  }
 ],
 "metadata": {
  "kernelspec": {
   "display_name": "Python 3",
   "language": "python",
   "name": "python3"
  },
  "language_info": {
   "codemirror_mode": {
    "name": "ipython",
    "version": 3
   },
   "file_extension": ".py",
   "mimetype": "text/x-python",
   "name": "python",
   "nbconvert_exporter": "python",
   "pygments_lexer": "ipython3",
   "version": "3.8.8"
  }
 },
 "nbformat": 4,
 "nbformat_minor": 5
}
